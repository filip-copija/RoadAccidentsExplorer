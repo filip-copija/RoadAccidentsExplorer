{
 "cells": [
  {
   "cell_type": "markdown",
   "metadata": {},
   "source": [
    "#### Working with data"
   ]
  },
  {
   "cell_type": "code",
   "execution_count": 10,
   "metadata": {},
   "outputs": [],
   "source": [
    "import pandas as pd\n",
    "from pathlib import Path"
   ]
  },
  {
   "cell_type": "code",
   "execution_count": 11,
   "metadata": {},
   "outputs": [],
   "source": [
    "input_folder = Path(\"../data/raw_data\")\n",
    "output_folder = Path(\"../data/processed_data\")\n",
    "output_folder.mkdir(exist_ok=True)"
   ]
  },
  {
   "cell_type": "code",
   "execution_count": 12,
   "metadata": {},
   "outputs": [],
   "source": [
    "replacements = {\n",
    "    \" (1)\": \"\",\n",
    "    \" (2)\": \"\",\n",
    "    \" (3)\": \"\",\n",
    "}"
   ]
  },
  {
   "cell_type": "code",
   "execution_count": 13,
   "metadata": {},
   "outputs": [],
   "source": [
    "def replace_invalid_chars(text):\n",
    "    for wrong, correct in replacements.items():\n",
    "        text = text.replace(wrong, correct)\n",
    "    return text"
   ]
  },
  {
   "cell_type": "code",
   "execution_count": 14,
   "metadata": {},
   "outputs": [],
   "source": [
    "def determine_region_type(code):\n",
    "    code = str(code).zfill(7)\n",
    "    if code == \"0000000\":  # Country\n",
    "        return \"kraj\"\n",
    "    elif code[0:1] != \"00\" and code[2:] == \"00000\":  # Voivodeship\n",
    "        return \"województwo\"\n",
    "    elif code[2:3] != \"00\" and code[4:] == \"000\":  # District\n",
    "        return \"powiat\"\n",
    "    elif code.isdigit() and len(code) == 7 and code[4:] != \"000\":  # City\n",
    "        return \"miasto\"\n",
    "    else:\n",
    "        return \"nieznane\""
   ]
  },
  {
   "cell_type": "code",
   "execution_count": 15,
   "metadata": {},
   "outputs": [],
   "source": [
    "def analyze_and_clean_file(file_path, columns_to_analyze):\n",
    "    data = pd.read_csv(file_path, delimiter=\";\")\n",
    "    \n",
    "    data[\"Nazwa\"] = data[\"Nazwa\"].apply(lambda x: replace_invalid_chars(x) if isinstance(x, str) else x)\n",
    "    \n",
    "    data = data.drop(columns=[\"Atrybut\"], errors=\"ignore\")  \n",
    "    data[\"Jednostka miary\"] = data[\"Jednostka miary\"].str.strip() \n",
    "    data[\"Region_Type\"] = data[\"Kod\"].apply(determine_region_type) \n",
    "    \n",
    "    analysis_results = {}\n",
    "    for column in columns_to_analyze:\n",
    "        analysis_results[column] = data[column].unique()\n",
    "        print(f\"Distinct values in '{column}':\")\n",
    "        print(analysis_results[column])\n",
    "        print(\"\\n\")\n",
    "\n",
    "    print(\"Region Type Counts:\")\n",
    "    print(data[\"Region_Type\"].value_counts())\n",
    "    \n",
    "    cleaned_file_path = output_folder / f\"correct_{file_path.name}\"\n",
    "    data.to_csv(cleaned_file_path, index=False, sep=\";\")\n",
    "    print(f\"Cleaned file saved to {cleaned_file_path}\")\n",
    "    return data, analysis_results"
   ]
  },
  {
   "cell_type": "code",
   "execution_count": 16,
   "metadata": {},
   "outputs": [],
   "source": [
    "# Fields to analyse\n",
    "files_and_columns = {\n",
    "    \"raw_road_accidents_and_their_victims_1999_2023.csv\": [\"Wypadki drogowe\", \"Rok\"],\n",
    "    \"raw_road_accidents_by_major_causes_2014_2023.csv\": [\"Ważniejsze przyczyny wypadków\", \"Rok\"],\n",
    "    \"raw_road_accidents_intoxicated_road_users_2014_2023.csv\": [\"Nietrzeźwi sprawcy\", \"Rok\"],\n",
    "    \"raw_road_accidents_wehicle_type_2014_2023.csv\": [\"Wypadki drogowe według pojazdu sprawcy\", \"Rok\"]\n",
    "}"
   ]
  },
  {
   "cell_type": "code",
   "execution_count": 17,
   "metadata": {},
   "outputs": [
    {
     "name": "stdout",
     "output_type": "stream",
     "text": [
      "Analyzing file: raw_road_accidents_and_their_victims_1999_2023.csv\n",
      "Distinct values in 'Wypadki drogowe':\n",
      "['wypadki ogółem' 'ofiary wypadków ogółem' 'ofiary śmiertelne' 'ranni']\n",
      "\n",
      "\n",
      "Distinct values in 'Rok':\n",
      "[1999 2000 2001 2002 2003 2004 2005 2006 2007 2008 2009 2010 2011 2012\n",
      " 2013 2014 2015 2016 2017 2018 2019 2020 2021 2022 2023]\n",
      "\n",
      "\n",
      "Region Type Counts:\n",
      "miasto         227400\n",
      "powiat          38000\n",
      "województwo      1600\n",
      "kraj              100\n",
      "Name: Region_Type, dtype: int64\n",
      "Cleaned file saved to ..\\data\\processed_data\\correct_raw_road_accidents_and_their_victims_1999_2023.csv\n",
      "Analyzing file: raw_road_accidents_by_major_causes_2014_2023.csv\n",
      "Distinct values in 'Ważniejsze przyczyny wypadków':\n",
      "['ogółem' 'wina kierujących pojazdami - ogółem'\n",
      " 'wina kierujących pojazdami - niedostosowanie prędkości do warunków ruchu'\n",
      " 'wina kierujących pojazdami - nieprzestrzeganie pierwszeństwa przejazdu'\n",
      " 'wina kierujących pojazdami - nieprawidłowe wyprzedzanie'\n",
      " 'wina kierujących pojazdami - nieprawidłowe zachowanie wobec pieszych'\n",
      " 'wina kierujących pojazdami - niezachowanie bezpiecznej odległości między pojazdami'\n",
      " 'wina kierujących pojazdami - pozostałe' 'wina pieszych - ogółem'\n",
      " 'wina pieszych - nieostrożne wejście na jezdnię'\n",
      " 'wina pieszych - pozostałe' 'wina pasażerów' 'współwina'\n",
      " 'pozostałe przyczyny']\n",
      "\n",
      "\n",
      "Distinct values in 'Rok':\n",
      "[2014 2015 2016 2017 2018 2019 2020 2021 2022 2023]\n",
      "\n",
      "\n",
      "Region Type Counts:\n",
      "województwo    2240\n",
      "kraj            140\n",
      "Name: Region_Type, dtype: int64\n",
      "Cleaned file saved to ..\\data\\processed_data\\correct_raw_road_accidents_by_major_causes_2014_2023.csv\n",
      "Analyzing file: raw_road_accidents_intoxicated_road_users_2014_2023.csv\n",
      "Distinct values in 'Nietrzeźwi sprawcy':\n",
      "['ogółem' 'kierujący pojazdami ogółem' 'kierujący samochodami osobowymi'\n",
      " 'kierujący motocyklami' 'kierujący rowerami' 'kierujący motorowerami'\n",
      " 'kierujący samochodami ciężarowymi' 'kierujący innymi pojazdami' 'piesi']\n",
      "\n",
      "\n",
      "Distinct values in 'Rok':\n",
      "[2014 2015 2016 2017 2018 2019 2020 2021 2022 2023]\n",
      "\n",
      "\n",
      "Region Type Counts:\n",
      "województwo    1440\n",
      "kraj             90\n",
      "Name: Region_Type, dtype: int64\n",
      "Cleaned file saved to ..\\data\\processed_data\\correct_raw_road_accidents_intoxicated_road_users_2014_2023.csv\n",
      "Analyzing file: raw_road_accidents_wehicle_type_2014_2023.csv\n",
      "Distinct values in 'Wypadki drogowe według pojazdu sprawcy':\n",
      "['ogółem' 'samochody osobowe' 'motocykle'\n",
      " 'motocykle o pojemności silnika do 125 cm3' 'rowery' 'motorowery'\n",
      " 'samochody ciężarowe' 'hulajnogi elektryczne\\t\\t\\t'\n",
      " 'urządzenie transportu osobistego' 'inne pojazdy - ogółem'\n",
      " 'inne pojazdy - pojazd nieustalony']\n",
      "\n",
      "\n",
      "Distinct values in 'Rok':\n",
      "[2002 2003 2004 2005 2006 2007 2008 2009 2010 2011 2012 2013 2014 2015\n",
      " 2016 2017 2018 2019 2020 2021 2022 2023]\n",
      "\n",
      "\n",
      "Region Type Counts:\n",
      "województwo    3872\n",
      "kraj            242\n",
      "Name: Region_Type, dtype: int64\n",
      "Cleaned file saved to ..\\data\\processed_data\\correct_raw_road_accidents_wehicle_type_2014_2023.csv\n"
     ]
    }
   ],
   "source": [
    "for file_name, columns in files_and_columns.items():\n",
    "    print(f\"Analyzing file: {file_name}\")\n",
    "    file_path = input_folder / file_name\n",
    "    analyze_and_clean_file(file_path, columns)"
   ]
  },
  {
   "cell_type": "code",
   "execution_count": null,
   "metadata": {},
   "outputs": [],
   "source": []
  }
 ],
 "metadata": {
  "kernelspec": {
   "display_name": "Python 3",
   "language": "python",
   "name": "python3"
  },
  "language_info": {
   "codemirror_mode": {
    "name": "ipython",
    "version": 3
   },
   "file_extension": ".py",
   "mimetype": "text/x-python",
   "name": "python",
   "nbconvert_exporter": "python",
   "pygments_lexer": "ipython3",
   "version": "3.11.7"
  }
 },
 "nbformat": 4,
 "nbformat_minor": 2
}
